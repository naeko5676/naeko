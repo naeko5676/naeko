{
 "cells": [
  {
   "cell_type": "raw",
   "metadata": {},
   "source": [
    "\n"
   ]
  },
  {
   "cell_type": "code",
   "execution_count": 155,
   "metadata": {},
   "outputs": [
    {
     "name": "stdout",
     "output_type": "stream",
     "text": [
      "Init cost:212.2335686577399\n",
      "x.size:100\n",
      "ae:0.9523015824512817\n",
      "be:2.1417138400586877\n",
      "ce:0.9157209777830984\n",
      "Final cost:25.11099891294961\n"
     ]
    },
    {
     "data": {
      "text/plain": [
       "[<matplotlib.lines.Line2D at 0x7fb3d0d428d0>]"
      ]
     },
     "execution_count": 155,
     "metadata": {},
     "output_type": "execute_result"
    },
    {
     "data": {
      "image/png": "[encoded data removed]",
      "text/plain": [
       "<Figure size 432x288 with 1 Axes>"
      ]
     },
     "metadata": {
      "needs_background": "light"
     },
     "output_type": "display_data"
    }
   ],
   "source": [
    "import numpy as np\n",
    "import matplotlib.pyplot\n",
    "\n",
    "def lost(x,a,b,c):\n",
    "    \n",
    "    y=np.zeros(x.size)\n",
    "    id=0\n",
    "    for i in x:\n",
    "        y[id]=np.exp(a*i*i+b*i+c)\n",
    "        id=id+1\n",
    "    return y\n",
    "\n",
    "def lostData(x,a,b,c):\n",
    "    g = np.random.multivariate_normal([(0)], [[0.5]], x.size)\n",
    "    y=np.zeros(x.size)\n",
    "    \n",
    "    id=0\n",
    "    for i in x:\n",
    "        y[id]=np.exp(a*i*i+b*i+c)+g[id]\n",
    "        id=id+1\n",
    "    return y\n",
    "\n",
    "\n",
    "ar=1.0\n",
    "br=2.0\n",
    "cr=0.8\n",
    "\n",
    "ae=1.2\n",
    "be=2.2\n",
    "ce=0.6\n",
    "\n",
    "#Y = np.random.multivariate_normal([(0)], [[1]], 10)\n",
    "#print(Y)\n",
    "#plt.plot(Y,'ro')\n",
    "#print(\"y2:\")\n",
    "#print(Y[2])\n",
    "\n",
    "x=np.arange(0, 1, 0.01) #生成[0 1 2 3 4 5 6 7 8 9]\n",
    "#print(\"x:\"+str(x))\n",
    "y=lost(x,1,2,1)\n",
    "#print(\"y:\"+str(y))\n",
    "\n",
    "###plt.plot(x,y,'y-')\n",
    "ys=lostData(x,1,2,1)\n",
    "plt.plot(x,ys,'g-')\n",
    "\n",
    "N=x.size\n",
    "\n",
    "ye=lost(x,ae,be,ce)\n",
    "plt.plot(x,ye,'b-')\n",
    "inicost=0\n",
    "iy=0\n",
    "while iy<N:\n",
    "    inicost+=(ys[iy]-ye[iy])*(ys[iy]-ye[iy])*0.5\n",
    "    iy=iy+1\n",
    "    \n",
    "print(\"Init cost:\"+str(inicost))\n",
    "\n",
    "iter=200\n",
    "\n",
    "print(\"x.size:\"+str(N))\n",
    "i=0\n",
    "lr=0.001\n",
    "\n",
    "while i<iter:    \n",
    "    iy=0\n",
    "    da=0\n",
    "    db=0\n",
    "    dc=0\n",
    "    for xi in x:\n",
    "        da+=(np.exp(ae*xi*xi+be*xi+ce)-ys[iy])*np.exp(ae*xi*xi+be*xi+ce)*xi*xi\n",
    "        ##your code begins(2 lines):\n",
    "        \n",
    "        ##your code ends\n",
    "        iy=iy+1\n",
    "    \n",
    "    da=da/x.size\n",
    "    db=db/x.size\n",
    "    dc=dc/x.size\n",
    "    \n",
    "    ae=ae-lr*da\n",
    "    be=be-lr*db\n",
    "    ce=ce-lr*dc\n",
    "    \"\"\"\n",
    "    \n",
    "    print(\"i:\"+str(i))\n",
    "\n",
    "\n",
    "    print(\"ae:\"+str(ae))\n",
    "    print(\"be:\"+str(be))\n",
    "    print(\"ce:\"+str(ce))\n",
    "    \n",
    "    ye=lost(x,ae,be,ce)\n",
    "    print(\"ye.size:\"+str(ye.size))\n",
    "    print(\"iy:\"+str(iy))\n",
    "    iy=0\n",
    "    cost=0\n",
    "    while iy<N:\n",
    "        cost+=(ym[iy]-ye[iy])*(ym[iy]-ye[iy])*0.5\n",
    "        iy=iy+1\n",
    "    \n",
    "    print(\"cost:\"+str(cost))\n",
    "    \"\"\"\n",
    "    i=i+1\n",
    "    #print(\"i:\"+str(i))\n",
    "print(\"ae:\"+str(ae))\n",
    "print(\"be:\"+str(be))\n",
    "print(\"ce:\"+str(ce))\n",
    "ye=lost(x,ae,be,ce)\n",
    "finalcost=0\n",
    "iy=0\n",
    "while iy<N:\n",
    "    finalcost+=(ys[iy]-ye[iy])*(ys[iy]-ye[iy])*0.5\n",
    "    iy=iy+1\n",
    "    \n",
    "print(\"Final cost:\"+str(finalcost))\n",
    "plt.plot(x,ye,'r-')\n"
   ]
  },
  {
   "cell_type": "code",
   "execution_count": 125,
   "metadata": {},
   "outputs": [],
   "source": [
    "import numpy as np\n"
   ]
  },
  {
   "cell_type": "code",
   "execution_count": 64,
   "metadata": {},
   "outputs": [
    {
     "name": "stdout",
     "output_type": "stream",
     "text": [
      "hello\n"
     ]
    }
   ],
   "source": [
    "print(\"hello\")"
   ]
  },
  {
   "cell_type": "code",
   "execution_count": 65,
   "metadata": {},
   "outputs": [],
   "source": [
    "import numpy as np"
   ]
  },
  {
   "cell_type": "code",
   "execution_count": null,
   "metadata": {},
   "outputs": [],
   "source": []
  }
 ],
 "metadata": {
  "kernelspec": {
   "display_name": "Python 3",
   "language": "python",
   "name": "python3"
  },
  "language_info": {
   "codemirror_mode": {
    "name": "ipython",
    "version": 3
   },
   "file_extension": ".py",
   "mimetype": "text/x-python",
   "name": "python",
   "nbconvert_exporter": "python",
   "pygments_lexer": "ipython3",
   "version": "3.7.4"
  }
 },
 "nbformat": 4,
 "nbformat_minor": 2
}
